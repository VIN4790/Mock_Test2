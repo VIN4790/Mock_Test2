{
  "nbformat": 4,
  "nbformat_minor": 0,
  "metadata": {
    "colab": {
      "provenance": []
    },
    "kernelspec": {
      "name": "python3",
      "display_name": "Python 3"
    },
    "language_info": {
      "name": "python"
    }
  },
  "cells": [
    {
      "cell_type": "markdown",
      "source": [
        "Square root of a number\n"
      ],
      "metadata": {
        "id": "QyYtK-rhG2Ia"
      }
    },
    {
      "cell_type": "code",
      "source": [
        "def floorSqrt(x):\n",
        "\n",
        "    # Base cases\n",
        "    if (x == 0 or x == 1):\n",
        "        return x\n",
        "\n",
        "    # Do Binary Search for floor(sqrt(x))\n",
        "    start = 1\n",
        "    end = x//2\n",
        "    while (start <= end):\n",
        "        mid = (start + end) // 2\n",
        "\n",
        "\n",
        "        if (mid*mid == x):\n",
        "            return mid\n",
        "\n",
        "\n",
        "        if (mid * mid < x):\n",
        "            start = mid + 1\n",
        "            ans = mid\n",
        "\n",
        "        else:\n",
        "\n",
        "\n",
        "            end = mid-1\n",
        "\n",
        "    return ans\n",
        ""
      ],
      "metadata": {
        "id": "_oU_Fbu4DDnf"
      },
      "execution_count": 4,
      "outputs": []
    },
    {
      "cell_type": "code",
      "source": [],
      "metadata": {
        "id": "kOkAA0HGHDld"
      },
      "execution_count": null,
      "outputs": []
    },
    {
      "cell_type": "markdown",
      "source": [
        "Add Two Numbers\n"
      ],
      "metadata": {
        "id": "Vu6qiAGpHETG"
      }
    },
    {
      "cell_type": "code",
      "source": [
        "class Node:\n",
        "    def __init__(self, data):\n",
        "        self.data = data\n",
        "        self.next = None\n",
        "\n",
        "class LinkedList:\n",
        "    def __init__(self):\n",
        "        self.head = None\n",
        "    def push(self, new_data):\n",
        "        new_node = Node(new_data)\n",
        "        new_node.next = self.head\n",
        "        self.head = new_node\n",
        "\n",
        "    def printList(self):\n",
        "        n = self.head\n",
        "        while n:\n",
        "            print(n.data, end=' ')\n",
        "            n = n.next\n",
        "        print()\n",
        "\n",
        "def addTwoLists(first, second):\n",
        "    num1, num2 = 0, 0\n",
        "    while first.head:\n",
        "        num1 = num1*10 + first.head.data\n",
        "        first.head = first.head.next\n",
        "    while second.head:\n",
        "        num2 = num2*10 + second.head.data\n",
        "        second.head = second.head.next\n",
        "    num3 = num1 + num2\n",
        "    temp = LinkedList()\n",
        "    while num3:\n",
        "        last = num3 % 10\n",
        "        temp.push(last)\n",
        "        num3 = num3 // 10\n",
        "    return temp\n",
        "\n"
      ],
      "metadata": {
        "id": "ajeoZm4pGAQ9"
      },
      "execution_count": 9,
      "outputs": []
    }
  ]
}